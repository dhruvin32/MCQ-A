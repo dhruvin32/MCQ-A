{
  "nbformat": 4,
  "nbformat_minor": 0,
  "metadata": {
    "colab": {
      "name": "ensblDataGen.ipynb",
      "provenance": [],
      "collapsed_sections": []
    },
    "kernelspec": {
      "name": "python3",
      "display_name": "Python 3"
    },
    "accelerator": "GPU"
  },
  "cells": [
    {
      "cell_type": "code",
      "metadata": {
        "id": "jYPfhS997IW-",
        "colab_type": "code",
        "colab": {}
      },
      "source": [
        "'''!pip install pytorch_pretrained_bert\n",
        "!pip install transformers'''"
      ],
      "execution_count": 0,
      "outputs": []
    },
    {
      "cell_type": "code",
      "metadata": {
        "id": "rfbTiz7y7v2_",
        "colab_type": "code",
        "colab": {}
      },
      "source": [
        "import logging\n",
        "import os\n",
        "import random\n",
        "from tqdm import tqdm, trange\n",
        "import glob \n",
        "import json\n",
        "\n",
        "import numpy as np\n",
        "import pandas as pd \n",
        "import torch\n",
        "from torch.utils.data import TensorDataset, DataLoader, RandomSampler, SequentialSampler\n",
        "\n",
        "#from pytorch_pretrained_bert.tokenization import BertTokenizer\n",
        "from pytorch_pretrained_bert.modeling import BertForMultipleChoice\n",
        "from transformers import RobertaTokenizer,BertTokenizer,XLNetTokenizer\n",
        "from transformers import RobertaForMultipleChoice,XLNetForMultipleChoice"
      ],
      "execution_count": 0,
      "outputs": []
    },
    {
      "cell_type": "code",
      "metadata": {
        "id": "orIDrsif8iks",
        "colab_type": "code",
        "colab": {}
      },
      "source": [
        "basePath = '/content/'\n",
        "\n",
        "base_model = 'roberta'\n",
        "\n",
        "bert_model = 'bert-base-uncased'\n",
        "roberta_model = 'roberta-base'\n",
        "xlnet_model = 'xlnet-base-uncased'\n",
        "\n",
        "modelBE_file = basePath+'drive/My Drive/temp/models/base_model_epoch4.bin'\n",
        "modelRo_file = basePath+'drive/My Drive/temp/models/epoch4_Robert_base.bin'\n",
        "#modelXL_file = \n",
        "\n",
        "drive_dir = basePath+'drive/My Drive/temp/DatasetN'\n",
        "data_dir = basePath+'dataset'\n",
        "\n",
        "'''drive_dir = basePath+'drive/My Drive/temp/tempDataset'\n",
        "data_dir = basePath+'tempdataset' '''\n",
        "\n",
        "max_seq_length = 512\n",
        "do_eval = True\n",
        "do_lower_case = True\n",
        "eval_batch_size = 1\n",
        "no_cuda = False  # False = use cuda if available\n",
        "local_rank = -1\n",
        "seed = 42"
      ],
      "execution_count": 0,
      "outputs": []
    },
    {
      "cell_type": "code",
      "metadata": {
        "id": "Qi8uWCQ48mId",
        "colab_type": "code",
        "colab": {
          "base_uri": "https://localhost:8080/",
          "height": 54
        },
        "outputId": "5222947f-2870-4376-ca06-7b997cecbc4f"
      },
      "source": [
        "'''import zipfile\n",
        "import os\n",
        "for file_name in os.listdir(drive_dir):\n",
        "  if file_name.endswith('.zip'):\n",
        "    with zipfile.ZipFile(drive_dir+'/'+file_name,'r') as zip_dir:\n",
        "      zip_dir.extractall(path='/content/')'''"
      ],
      "execution_count": 8,
      "outputs": [
        {
          "output_type": "execute_result",
          "data": {
            "text/plain": [
              "\"import zipfile\\nimport os\\nfor file_name in os.listdir(drive_dir):\\n  if file_name.endswith('.zip'):\\n    with zipfile.ZipFile(drive_dir+'/'+file_name,'r') as zip_dir:\\n      zip_dir.extractall(path='/content/')\""
            ]
          },
          "metadata": {
            "tags": []
          },
          "execution_count": 8
        }
      ]
    },
    {
      "cell_type": "code",
      "metadata": {
        "id": "qS7eY2CQ81m0",
        "colab_type": "code",
        "colab": {}
      },
      "source": [
        "logging.basicConfig(format = '%(asctime)s - %(levelname)s - %(name)s -   %(message)s',\n",
        "                    datefmt = '%m/%d/%Y %H:%M:%S',\n",
        "                    level = logging.INFO)\n",
        "logger = logging.getLogger(__name__)"
      ],
      "execution_count": 0,
      "outputs": []
    },
    {
      "cell_type": "code",
      "metadata": {
        "id": "gW5skEtX84eN",
        "colab_type": "code",
        "colab": {}
      },
      "source": [
        "class RaceExample(object):\n",
        "    \"\"\"A single training/test example for the RACE dataset.\"\"\"\n",
        "    '''\n",
        "    For RACE dataset:\n",
        "    race_id: data id\n",
        "    context_sentence: article\n",
        "    start_ending: question\n",
        "    ending_0/1/2/3: option_0/1/2/3\n",
        "    label: true answer\n",
        "    '''\n",
        "    def __init__(self,\n",
        "                 race_id,\n",
        "                 context_sentence,\n",
        "                 start_ending,\n",
        "                 ending_0,\n",
        "                 ending_1,\n",
        "                 ending_2,\n",
        "                 ending_3,\n",
        "                 label = None):\n",
        "        self.race_id = race_id\n",
        "        self.context_sentence = context_sentence\n",
        "        self.start_ending = start_ending\n",
        "        self.endings = [\n",
        "            ending_0,\n",
        "            ending_1,\n",
        "            ending_2,\n",
        "            ending_3,\n",
        "        ]\n",
        "        self.label = label\n",
        "\n",
        "    def __str__(self):\n",
        "        return self.__repr__()\n",
        "\n",
        "    def __repr__(self):\n",
        "        l = [\n",
        "            f\"id: {self.race_id}\",\n",
        "            f\"article: {self.context_sentence}\",\n",
        "            f\"question: {self.start_ending}\",\n",
        "            f\"option_0: {self.endings[0]}\",\n",
        "            f\"option_1: {self.endings[1]}\",\n",
        "            f\"option_2: {self.endings[2]}\",\n",
        "            f\"option_3: {self.endings[3]}\",\n",
        "        ]\n",
        "\n",
        "        if self.label is not None:\n",
        "            l.append(f\"label: {self.label}\")\n",
        "\n",
        "        return \", \".join(l)"
      ],
      "execution_count": 0,
      "outputs": []
    },
    {
      "cell_type": "code",
      "metadata": {
        "id": "JBTK8xFE86hm",
        "colab_type": "code",
        "colab": {}
      },
      "source": [
        "class InputFeatures(object):\n",
        "    def __init__(self,\n",
        "                 example_id,\n",
        "                 choices_features,\n",
        "                 label\n",
        "\n",
        "    ):\n",
        "        self.example_id = example_id\n",
        "        self.choices_features = [\n",
        "            {\n",
        "                'input_ids': input_ids,\n",
        "                'input_mask': input_mask,\n",
        "                'segment_ids': segment_ids\n",
        "            }\n",
        "            for _, input_ids, input_mask, segment_ids in choices_features\n",
        "        ]\n",
        "        self.label = label"
      ],
      "execution_count": 0,
      "outputs": []
    },
    {
      "cell_type": "code",
      "metadata": {
        "id": "iCiqJn5Y8862",
        "colab_type": "code",
        "colab": {}
      },
      "source": [
        "## paths is a list containing all paths\n",
        "def read_race_examples(paths):\n",
        "    examples = []\n",
        "    for path in paths:\n",
        "        filenames = glob.glob(path+\"/*json\")\n",
        "        for filename in filenames:\n",
        "            with open(filename, 'r', encoding='utf-8') as fpr:\n",
        "                data_raw = json.load(fpr)\n",
        "                article = data_raw['article']\n",
        "                ## for each qn\n",
        "                for i in range(len(data_raw['answers'])):\n",
        "                    truth = ord(data_raw['answers'][i]) - ord('A')\n",
        "                    question = data_raw['questions'][i]\n",
        "                    options = data_raw['options'][i]\n",
        "                    examples.append(\n",
        "                        RaceExample(\n",
        "                            race_id = filename+'-'+str(i),\n",
        "                            context_sentence = article,\n",
        "                            start_ending = question,\n",
        "\n",
        "                            ending_0 = options[0],\n",
        "                            ending_1 = options[1],\n",
        "                            ending_2 = options[2],\n",
        "                            ending_3 = options[3],\n",
        "                            label = truth))\n",
        "                \n",
        "    return examples"
      ],
      "execution_count": 0,
      "outputs": []
    },
    {
      "cell_type": "code",
      "metadata": {
        "id": "NFInQ-Tf9AD5",
        "colab_type": "code",
        "colab": {}
      },
      "source": [
        "def convert_examples_to_features(examples, tokenizer, max_seq_length,\n",
        "                                 is_training):\n",
        "    \"\"\"Loads a data file into a list of `InputBatch`s.\"\"\"\n",
        "\n",
        "    # RACE is a multiple choice task. To perform this task using Bert,\n",
        "    # we will use the formatting proposed in \"Improving Language\n",
        "    # Understanding by Generative Pre-Training\" and suggested by\n",
        "    # @jacobdevlin-google in this issue\n",
        "    # https://github.com/google-research/bert/issues/38.\n",
        "    #\n",
        "    # The input will be like:\n",
        "    # [CLS] Article [SEP] Question + Option [SEP]\n",
        "    # for each option \n",
        "    # \n",
        "    # The model will output a single value for each input. To get the\n",
        "    # final decision of the model, we will run a softmax over these 4\n",
        "    # outputs.\n",
        "    features = []\n",
        "    for example_index, example in enumerate(examples):\n",
        "        context_tokens = tokenizer.tokenize(example.context_sentence)\n",
        "        start_ending_tokens = tokenizer.tokenize(example.start_ending)\n",
        "\n",
        "        choices_features = []\n",
        "        for ending_index, ending in enumerate(example.endings):\n",
        "            # We create a copy of the context tokens in order to be\n",
        "            # able to shrink it according to ending_tokens\n",
        "            context_tokens_choice = context_tokens[:]\n",
        "            ending_tokens = start_ending_tokens + tokenizer.tokenize(ending)\n",
        "            # Modifies `context_tokens_choice` and `ending_tokens` in\n",
        "            # place so that the total length is less than the\n",
        "            # specified length.  Account for [CLS], [SEP], [SEP] with\n",
        "            # \"- 3\"\n",
        "            _truncate_seq_pair(context_tokens_choice, ending_tokens, max_seq_length - 3)\n",
        "\n",
        "            #tokens = [\"[CLS]\"] + context_tokens_choice + [\"[SEP]\"] + ending_tokens + [\"[SEP]\"]\n",
        "            tokens = [tokenizer.cls_token] + context_tokens_choice + [tokenizer.sep_token] + ending_tokens + [tokenizer.sep_token]\n",
        "            segment_ids = [0] * (len(context_tokens_choice) + 2) + [1] * (len(ending_tokens) + 1)\n",
        "\n",
        "            input_ids = tokenizer.convert_tokens_to_ids(tokens)\n",
        "            input_mask = [1] * len(input_ids)\n",
        "\n",
        "            # Zero-pad up to the sequence length.\n",
        "            padding = [0] * (max_seq_length - len(input_ids))\n",
        "            input_ids += padding\n",
        "            input_mask += padding\n",
        "            segment_ids += padding\n",
        "\n",
        "            assert len(input_ids) == max_seq_length\n",
        "            assert len(input_mask) == max_seq_length\n",
        "            assert len(segment_ids) == max_seq_length\n",
        "\n",
        "            choices_features.append((tokens, input_ids, input_mask, segment_ids))\n",
        "\n",
        "        label = example.label\n",
        "        ## display some example\n",
        "        if example_index < 1:\n",
        "            logger.info(\"*** Example ***\")\n",
        "            logger.info(f\"race_id: {example.race_id}\")\n",
        "            for choice_idx, (tokens, input_ids, input_mask, segment_ids) in enumerate(choices_features):\n",
        "                logger.info(f\"choice: {choice_idx}\")\n",
        "                logger.info(f\"tokens: {' '.join(tokens)}\")\n",
        "                logger.info(f\"input_ids: {' '.join(map(str, input_ids))}\")\n",
        "                logger.info(f\"input_mask: {' '.join(map(str, input_mask))}\")\n",
        "                logger.info(f\"segment_ids: {' '.join(map(str, segment_ids))}\")\n",
        "            if is_training:\n",
        "                logger.info(f\"label: {label}\")\n",
        "\n",
        "        features.append(\n",
        "            InputFeatures(\n",
        "                example_id = example.race_id,\n",
        "                choices_features = choices_features,\n",
        "                label = label\n",
        "            )\n",
        "        )\n",
        "\n",
        "    return features"
      ],
      "execution_count": 0,
      "outputs": []
    },
    {
      "cell_type": "code",
      "metadata": {
        "id": "twdBYsa_9CXX",
        "colab_type": "code",
        "colab": {}
      },
      "source": [
        "def _truncate_seq_pair(tokens_a, tokens_b, max_length):\n",
        "    \"\"\"Truncates a sequence pair in place to the maximum length.\"\"\"\n",
        "\n",
        "    # This is a simple heuristic which will always truncate the longer sequence\n",
        "    # one token at a time. This makes more sense than truncating an equal percent\n",
        "    # of tokens from each, since if one sequence is very short then each token\n",
        "    # that's truncated likely contains more information than a longer sequence.\n",
        "    while True:\n",
        "        total_length = len(tokens_a) + len(tokens_b)\n",
        "        if total_length <= max_length:\n",
        "            break\n",
        "        if len(tokens_a) > len(tokens_b):\n",
        "            tokens_a.pop()\n",
        "        else:\n",
        "            tokens_b.pop()"
      ],
      "execution_count": 0,
      "outputs": []
    },
    {
      "cell_type": "code",
      "metadata": {
        "id": "79YLdssB9HrE",
        "colab_type": "code",
        "colab": {}
      },
      "source": [
        "def accuracy(out, labels):\n",
        "    outputs = np.argmax(out, axis=1)\n",
        "    return np.sum(outputs == labels)"
      ],
      "execution_count": 0,
      "outputs": []
    },
    {
      "cell_type": "code",
      "metadata": {
        "id": "lN8RWdaH9Jpk",
        "colab_type": "code",
        "colab": {}
      },
      "source": [
        "def select_field(features, field):\n",
        "    return [\n",
        "        [\n",
        "            choice[field]\n",
        "            for choice in feature.choices_features\n",
        "        ]\n",
        "        for feature in features\n",
        "    ]"
      ],
      "execution_count": 0,
      "outputs": []
    },
    {
      "cell_type": "code",
      "metadata": {
        "id": "-aU_ZWaA9LZE",
        "colab_type": "code",
        "colab": {}
      },
      "source": [
        "def softmax(x):\n",
        "    return np.exp(x) / np.sum(np.exp(x), axis=0)"
      ],
      "execution_count": 0,
      "outputs": []
    },
    {
      "cell_type": "code",
      "metadata": {
        "id": "9Nu-oMot9Rdu",
        "colab_type": "code",
        "colab": {}
      },
      "source": [
        "def main():\n",
        "\n",
        "    device = torch.device(\"cuda\" if torch.cuda.is_available() and not no_cuda else \"cpu\")\n",
        "    n_gpu = torch.cuda.device_count()\n",
        "\n",
        "    random.seed(seed)\n",
        "    np.random.seed(seed)\n",
        "    torch.manual_seed(seed)\n",
        "    if n_gpu > 0:\n",
        "        torch.cuda.manual_seed_all(seed)\n",
        "\n",
        "\n",
        "    tokenizer = None\n",
        "    model = None\n",
        "    if base_model == 'bert':\n",
        "        tokenizer = BertTokenizer.from_pretrained(bert_model, do_lower_case=do_lower_case)\n",
        "        model_state_dict = torch.load(modelBE_file)\n",
        "        model = BertForMultipleChoice.from_pretrained(bert_model,state_dict=model_state_dict,num_choices=4)\n",
        "\n",
        "    elif base_model == 'roberta':\n",
        "        tokenizer = RobertaTokenizer.from_pretrained(roberta_model, do_lower_case=do_lower_case)\n",
        "        model_state_dict = torch.load(modelRo_file)\n",
        "        model = RobertaForMultipleChoice.from_pretrained(roberta_model,state_dict=model_state_dict)\n",
        "\n",
        "    else:\n",
        "        tokenizer = XLNetTokenizer.from_pretrained(xlnet_model, do_lower_case=do_lower_case)\n",
        "        model_state_dict = torch.load(modelXL_file)\n",
        "        model = XLNetForMultipleChoice.from_pretrained(xlnet_model,state_dict=model_state_dict)\n",
        "    \n",
        "    model.to(device)\n",
        "\n",
        "    if do_eval and (local_rank == -1 or torch.distributed.get_rank() == 0):\n",
        "        train_dir = os.path.join(data_dir, 'train')\n",
        "        eval_dir = os.path.join(data_dir, 'dev')\n",
        "\n",
        "        eval_examples = read_race_examples([train_dir,eval_dir])\n",
        "        eval_features = convert_examples_to_features(\n",
        "            eval_examples, tokenizer, max_seq_length, True)\n",
        "        \n",
        "        logger.info(\"***** Running evaluation: test high *****\")\n",
        "        logger.info(\"  Num examples = %d\", len(eval_examples))\n",
        "        logger.info(\"  Batch size = %d\", eval_batch_size)\n",
        "\n",
        "        all_input_ids = torch.tensor(select_field(eval_features, 'input_ids'), dtype=torch.long)\n",
        "        all_input_mask = torch.tensor(select_field(eval_features, 'input_mask'), dtype=torch.long)\n",
        "        all_segment_ids = torch.tensor(select_field(eval_features, 'segment_ids'), dtype=torch.long)\n",
        "        all_label = torch.tensor([f.label for f in eval_features], dtype=torch.long)\n",
        "\n",
        "        eval_data = TensorDataset(all_input_ids, all_input_mask, all_segment_ids, all_label)\n",
        "        # Run prediction for full data\n",
        "        eval_sampler = SequentialSampler(eval_data)\n",
        "        eval_dataloader = DataLoader(eval_data, sampler=eval_sampler, batch_size=eval_batch_size)\n",
        "\n",
        "        model.eval()\n",
        "\n",
        "        labelsSave = np.asarray([])\n",
        "        logitsSave = np.asarray([])\n",
        "        idsSave = np.asarray([])\n",
        "        for step, batch in enumerate(eval_dataloader):\n",
        "            batch = tuple(t.to(device) for t in batch)\n",
        "            input_ids, input_mask, segment_ids, label_ids = batch\n",
        "\n",
        "            with torch.no_grad():\n",
        "                if base_model == 'bert':\n",
        "                    logits = model(input_ids, segment_ids, input_mask)\n",
        "                    logits = logits.detach().cpu().numpy()\n",
        "                else:\n",
        "                    logits = model(input_ids = input_ids,attention_mask =  input_mask)\n",
        "                    logits = logits[0].detach().cpu().numpy()\n",
        "\n",
        "            label_ids = label_ids.to('cpu').numpy()\n",
        "            example_id = eval_features[step].example_id.split('/')[-1].split('-')[0]\n",
        "\n",
        "            if labelsSave.shape[0] == 0:\n",
        "                labelsSave = label_ids\n",
        "                logitsSave = logits\n",
        "                idsSave = [example_id]\n",
        "            else:\n",
        "               labelsSave = np.concatenate((labelsSave, label_ids))\n",
        "               logitsSave = np.concatenate((logitsSave, logits), axis=0)\n",
        "               idsSave.append(example_id)\n",
        "        \n",
        "\n",
        "        data = {'id':idsSave, \n",
        "                'A':logitsSave[:,0],\n",
        "                'B':logitsSave[:,1],\n",
        "                'C':logitsSave[:,2],\n",
        "                'D':logitsSave[:,3],\n",
        "                'correct_answer':labelsSave\n",
        "                } \n",
        "          \n",
        "        df = pd.DataFrame(data)\n",
        "        df.to_csv(basePath+'dataset_'+base_model+'.csv',index=False)"
      ],
      "execution_count": 0,
      "outputs": []
    },
    {
      "cell_type": "code",
      "metadata": {
        "id": "BMWXX3YXnHo8",
        "colab_type": "code",
        "colab": {}
      },
      "source": [
        "main()"
      ],
      "execution_count": 0,
      "outputs": []
    }
  ]
}