{
  "nbformat": 4,
  "nbformat_minor": 0,
  "metadata": {
    "colab": {
      "name": "project_1.ipynb",
      "provenance": [],
      "collapsed_sections": []
    },
    "kernelspec": {
      "name": "python3",
      "display_name": "Python 3"
    }
  },
  "cells": [
    {
      "cell_type": "code",
      "metadata": {
        "id": "rXSfpFZuqy4L",
        "colab_type": "code",
        "colab": {}
      },
      "source": [
        "import json"
      ],
      "execution_count": 0,
      "outputs": []
    },
    {
      "cell_type": "code",
      "metadata": {
        "id": "b9REKE5SrXpa",
        "colab_type": "code",
        "colab": {}
      },
      "source": [
        "#path = \"/content/drive/My Drive/nlpproject/test.json\"\n",
        "path = \"/content/drive/My Drive/nlpproject/train.json\"\n",
        "f=open(path,)\n",
        "\n",
        "data = json.load(f)"
      ],
      "execution_count": 0,
      "outputs": []
    },
    {
      "cell_type": "code",
      "metadata": {
        "id": "HH3KQU2crpkh",
        "colab_type": "code",
        "outputId": "e775473a-8589-4b26-e829-ef346c2a7c87",
        "colab": {
          "base_uri": "https://localhost:8080/",
          "height": 54
        }
      },
      "source": [
        "\"\"\"options = []\n",
        "questions = []\n",
        "support = \"\"\n",
        "answers = []\n",
        "for i in data:\n",
        "  options.append(i['distractor1'])\n",
        "  options.append(i['distractor2'])\n",
        "  options.append(i['distractor3'])\n",
        "  options.append(i['correct_answer'])\n",
        "  \n",
        "  questions.append(i['question'])\n",
        "  \n",
        "  support = i['support']\n",
        "  \n",
        "  answer = getOptions()\n",
        "  answers.append(answer)\n",
        "  \n",
        "  intial_pos = 3\n",
        "  random_pos = ord(answer) - ord('A')\n",
        "  print(random_pos)\n",
        "  options = swapElement(options,intial_pos,random_pos)\n",
        "  break\n",
        "\n",
        "f.close()\n",
        "print(options)\n",
        "print(questions)\n",
        "print(support)\n",
        "print(answer)\"\"\""
      ],
      "execution_count": 121,
      "outputs": [
        {
          "output_type": "execute_result",
          "data": {
            "text/plain": [
              "'options = []\\nquestions = []\\nsupport = \"\"\\nanswers = []\\nfor i in data:\\n  options.append(i[\\'distractor1\\'])\\n  options.append(i[\\'distractor2\\'])\\n  options.append(i[\\'distractor3\\'])\\n  options.append(i[\\'correct_answer\\'])\\n  \\n  questions.append(i[\\'question\\'])\\n  \\n  support = i[\\'support\\']\\n  \\n  answer = getOptions()\\n  answers.append(answer)\\n  \\n  intial_pos = 3\\n  random_pos = ord(answer) - ord(\\'A\\')\\n  print(random_pos)\\n  options = swapElement(options,intial_pos,random_pos)\\n  break\\n\\nf.close()\\nprint(options)\\nprint(questions)\\nprint(support)\\nprint(answer)'"
            ]
          },
          "metadata": {
            "tags": []
          },
          "execution_count": 121
        }
      ]
    },
    {
      "cell_type": "code",
      "metadata": {
        "id": "15BA7k7P73h7",
        "colab_type": "code",
        "colab": {}
      },
      "source": [
        ""
      ],
      "execution_count": 0,
      "outputs": []
    },
    {
      "cell_type": "code",
      "metadata": {
        "id": "hYD5-3dP60mw",
        "colab_type": "code",
        "colab": {}
      },
      "source": [
        "from random import randint\n",
        "def getOptions():\n",
        "  value = randint(0,4)\n",
        "  if value == 0:\n",
        "    return \"A\"\n",
        "  elif value == 1:\n",
        "    return \"B\"\n",
        "  elif value == 2:\n",
        "    return \"C\"\n",
        "  else:\n",
        "    return \"D\"\n",
        "\n",
        "\n",
        "def swapElement(ops,pos1,pos2):\n",
        "  ops[pos1], ops[pos2] = ops[pos2], ops[pos1]\n",
        "  return ops\n",
        "\n",
        "def createFile(out_name,x):\n",
        "  #out_path = \"/content/drive/My Drive/nlpproject/dataset/testdata/\" + out_name\n",
        "  out_path = \"/content/drive/My Drive/nlpproject/dataset/traindata/\" + out_name\n",
        "  out_file = open(out_path,\"w\")\n",
        "  json.dump(x,out_file,indent = 6)\n",
        "  out_file.close()\n",
        "\n"
      ],
      "execution_count": 0,
      "outputs": []
    },
    {
      "cell_type": "code",
      "metadata": {
        "id": "G1cjsCFTA9LL",
        "colab_type": "code",
        "colab": {}
      },
      "source": [
        ""
      ],
      "execution_count": 0,
      "outputs": []
    },
    {
      "cell_type": "code",
      "metadata": {
        "id": "7YxgEPlyA9bM",
        "colab_type": "code",
        "colab": {}
      },
      "source": [
        "count = 1\n",
        "\n",
        "for i in data:\n",
        "  options = []\n",
        "  questions = []\n",
        "  support = \"\"\n",
        "  answers = []\n",
        "\n",
        "  options.append(i['distractor1'])\n",
        "  options.append(i['distractor2'])\n",
        "  options.append(i['distractor3'])\n",
        "  options.append(i['correct_answer'])\n",
        "  \n",
        "  questions.append(i['question'])\n",
        "  \n",
        "  support = i['support']\n",
        "  \n",
        "  answer = getOptions()\n",
        "  answers.append(answer)\n",
        "  \n",
        "  intial_pos = 3\n",
        "  random_pos = ord(answer) - ord('A')\n",
        "  #print(random_pos)\n",
        "  options = swapElement(options,intial_pos,random_pos)\n",
        "  \n",
        "  optionlist = []\n",
        "  optionlist.append(options)\n",
        "\n",
        "  #out_name = \"testdata\" + str(count) + \".json\"\n",
        "  out_name = \"traindata\" + str(count) + \".json\"\n",
        "  count += 1  \n",
        "  x = {\n",
        "    \"answers\" : answers,\n",
        "    \"options\" : optionlist,\n",
        "     \"questions\" : questions,\n",
        "     \"article\" : support,\n",
        "     \"id\" : out_name\n",
        "  }\n",
        "\n",
        "  #print(json.dumps(x))\n",
        "  #break\n",
        "  createFile(out_name,x)\n",
        "\n",
        "f.close()"
      ],
      "execution_count": 0,
      "outputs": []
    },
    {
      "cell_type": "code",
      "metadata": {
        "id": "07QKlrnSCwSW",
        "colab_type": "code",
        "colab": {
          "base_uri": "https://localhost:8080/",
          "height": 34
        },
        "outputId": "b05ae110-c2f3-4fe0-b32b-1bf08c12677b"
      },
      "source": [
        "print(count)"
      ],
      "execution_count": 124,
      "outputs": [
        {
          "output_type": "stream",
          "text": [
            "11680\n"
          ],
          "name": "stdout"
        }
      ]
    },
    {
      "cell_type": "code",
      "metadata": {
        "id": "TxXb0SL3NHUK",
        "colab_type": "code",
        "colab": {
          "base_uri": "https://localhost:8080/",
          "height": 34
        },
        "outputId": "3e667005-0e25-4513-dba0-604bd44d970a"
      },
      "source": [
        "import os\n",
        "\n",
        "folder = \"/content/drive/My Drive/nlpproject/dataset/traindata\"\n",
        "dirlist = os.listdir(folder)\n",
        "\n",
        "print(len(dirlist))"
      ],
      "execution_count": 125,
      "outputs": [
        {
          "output_type": "stream",
          "text": [
            "11679\n"
          ],
          "name": "stdout"
        }
      ]
    },
    {
      "cell_type": "code",
      "metadata": {
        "id": "yoKeErk6Pbac",
        "colab_type": "code",
        "colab": {}
      },
      "source": [
        ""
      ],
      "execution_count": 0,
      "outputs": []
    }
  ]
}