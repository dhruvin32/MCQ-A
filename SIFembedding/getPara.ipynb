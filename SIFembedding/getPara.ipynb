{
  "nbformat": 4,
  "nbformat_minor": 0,
  "metadata": {
    "colab": {
      "name": "getPara.ipynb",
      "provenance": [],
      "collapsed_sections": []
    },
    "kernelspec": {
      "name": "python3",
      "display_name": "Python 3"
    }
  },
  "cells": [
    {
      "cell_type": "code",
      "metadata": {
        "id": "JZ82NbiB2q21",
        "colab_type": "code",
        "colab": {}
      },
      "source": [
        "# Input files: word2vec model, paragraph embedding file, paragraph files, input question file\n",
        "# ouput: json file with selected paragraph"
      ],
      "execution_count": 0,
      "outputs": []
    },
    {
      "cell_type": "code",
      "metadata": {
        "id": "iYulnhmdhKgD",
        "colab_type": "code",
        "colab": {}
      },
      "source": [
        "import numpy as np\n",
        "from sklearn.metrics.pairwise import cosine_similarity\n",
        "from gensim.models import Word2Vec\n",
        "import re\n",
        "import json"
      ],
      "execution_count": 0,
      "outputs": []
    },
    {
      "cell_type": "code",
      "metadata": {
        "id": "LnYdgb-42Aj-",
        "colab_type": "code",
        "colab": {}
      },
      "source": [
        "basePath = '/content/'\n",
        "\n",
        "inpFile = basePath+'traindata6.json'\n",
        "paraFile = basePath+'temp.json'\n",
        "paraEmbFile = basePath+'paraEmbs.csv'\n",
        "\n",
        "outFile = basePath+'out.json'"
      ],
      "execution_count": 0,
      "outputs": []
    },
    {
      "cell_type": "code",
      "metadata": {
        "id": "3xZ6C7jNtkfv",
        "colab_type": "code",
        "outputId": "de6dd5f5-4d1e-4503-cf7e-86baa24b2038",
        "colab": {
          "base_uri": "https://localhost:8080/",
          "height": 54
        }
      },
      "source": [
        "'''import zipfile\n",
        "import os\n",
        "for file_name in os.listdir(drive_dir):\n",
        "  if file_name.endswith('.zip'):\n",
        "    with zipfile.ZipFile(drive_dir+'/'+file_name,'r') as zip_dir:\n",
        "      zip_dir.extractall(path='/content/')'''"
      ],
      "execution_count": 0,
      "outputs": [
        {
          "output_type": "execute_result",
          "data": {
            "text/plain": [
              "\"import zipfile\\nimport os\\nfor file_name in os.listdir(drive_dir):\\n  if file_name.endswith('.zip'):\\n    with zipfile.ZipFile(drive_dir+'/'+file_name,'r') as zip_dir:\\n      zip_dir.extractall(path='/content/')\""
            ]
          },
          "metadata": {
            "tags": []
          },
          "execution_count": 114
        }
      ]
    },
    {
      "cell_type": "code",
      "metadata": {
        "id": "AvpzQwHSkE-7",
        "colab_type": "code",
        "colab": {}
      },
      "source": [
        "def sifEmbeddings(sentences, model, alpha=1e-3):\n",
        "\n",
        "    vocab = model.wv.vocab\n",
        "    embs = model.wv       \n",
        "    size = model.vector_size  \n",
        "    \n",
        "    total = 0\n",
        "    for word in vocab:\n",
        "        total += vocab[word].count \n",
        "\n",
        "    output = []\n",
        "    \n",
        "    for sent in sentences:\n",
        "        count = 0\n",
        "        v = np.zeros(size, dtype=np.float32) \n",
        "        for word in sent:\n",
        "          if word in vocab:\n",
        "            #print(word)\n",
        "            weight = alpha / (alpha + (vocab[word].count/total))\n",
        "            v += weight * embs[word]\n",
        "            count += 1 \n",
        "                \n",
        "        if count > 0:\n",
        "            v *= 1/count\n",
        "\n",
        "        output.append(v)\n",
        "    return np.vstack(output)"
      ],
      "execution_count": 0,
      "outputs": []
    },
    {
      "cell_type": "code",
      "metadata": {
        "id": "Hs-zwFCkh21M",
        "colab_type": "code",
        "colab": {}
      },
      "source": [
        "def splitSent(sent):\n",
        "    regX = '[\\s()\\.\\?]'\n",
        "    splitSent = re.split(regX,sent)\n",
        "    splitSent = list(filter(None,splitSent))\n",
        "    return splitSent"
      ],
      "execution_count": 0,
      "outputs": []
    },
    {
      "cell_type": "code",
      "metadata": {
        "id": "F4VMOCJa7Xbg",
        "colab_type": "code",
        "colab": {}
      },
      "source": [
        "def getFileSent(inpFile):\n",
        "    fileSent = ''\n",
        "    with open(inpFile,'r') as f:\n",
        "        x = json.loads(f.read())\n",
        "        for option in x['options'][0]:\n",
        "            fileSent += option\n",
        "            fileSent += ' '\n",
        "        fileSent += x['questions'][0]\n",
        "    return fileSent"
      ],
      "execution_count": 0,
      "outputs": []
    },
    {
      "cell_type": "code",
      "metadata": {
        "id": "HsYOqcDD-m9N",
        "colab_type": "code",
        "colab": {}
      },
      "source": [
        "def getMatchingPara(quesEmb):\n",
        "    paraEmbs = np.loadtxt('paraEmbs.csv',delimiter=',')\n",
        "\n",
        "    scores = []\n",
        "    for paraEmb in paraEmbs:\n",
        "        score=float( cosine_similarity([paraEmb],[emb]) )\n",
        "        scores.append(score)\n",
        "    print(scores)\n",
        "    mxScoreInd = scores.index(max(scores))\n",
        "    mxScoreInd += 1\n",
        "\n",
        "    with open(paraFile,'r') as f:\n",
        "      x = json.loads(f.read())\n",
        "      return x['para'+str(mxScoreInd)]"
      ],
      "execution_count": 0,
      "outputs": []
    },
    {
      "cell_type": "code",
      "metadata": {
        "id": "vOBRp9_Q_hKq",
        "colab_type": "code",
        "colab": {}
      },
      "source": [
        "def getQuesEmb(model,inpFile):\n",
        "    fileSent = getFileSent(inpFile)\n",
        "    sent = splitSent(fileSent)\n",
        "    emb = sifEmbeddings([sent], model, alpha=1e-3)[0]\n",
        "    return emb"
      ],
      "execution_count": 0,
      "outputs": []
    },
    {
      "cell_type": "code",
      "metadata": {
        "id": "DMTJ5uQ0A_-r",
        "colab_type": "code",
        "colab": {}
      },
      "source": [
        "def saveFile(inpFile,outFile,para):\n",
        "    with open(inpFile,'r') as f:\n",
        "      x = json.loads(f.read())\n",
        "      x['article'] = para\n",
        "\n",
        "      with open(outFile, 'w') as jsonOut:\n",
        "          json.dump(x, jsonOut)"
      ],
      "execution_count": 0,
      "outputs": []
    },
    {
      "cell_type": "code",
      "metadata": {
        "id": "rZaeySjyjQtc",
        "colab_type": "code",
        "outputId": "b56fee42-0f2a-45d4-c757-5364d1a78d3e",
        "colab": {
          "base_uri": "https://localhost:8080/",
          "height": 71
        }
      },
      "source": [
        "model = Word2Vec.load(\"word2vec.model\")"
      ],
      "execution_count": 0,
      "outputs": [
        {
          "output_type": "stream",
          "text": [
            "/usr/local/lib/python3.6/dist-packages/smart_open/smart_open_lib.py:253: UserWarning: This function is deprecated, use smart_open.open instead. See the migration notes for details: https://github.com/RaRe-Technologies/smart_open/blob/master/README.rst#migrating-to-the-new-open-function\n",
            "  'See the migration notes for details: %s' % _MIGRATION_NOTES_URL\n"
          ],
          "name": "stderr"
        }
      ]
    },
    {
      "cell_type": "code",
      "metadata": {
        "id": "28XkfZU1jVnR",
        "colab_type": "code",
        "outputId": "91619d2e-9d08-42f2-9b14-8ff0994a112b",
        "colab": {
          "base_uri": "https://localhost:8080/",
          "height": 68
        }
      },
      "source": [
        "emb = getQuesEmb(model,inpFile)\n",
        "print(emb)"
      ],
      "execution_count": 0,
      "outputs": [
        {
          "output_type": "stream",
          "text": [
            "[ 1.0139591e-03 -1.3389041e-04 -1.2687899e-03 -1.0514830e-03\n",
            " -5.7841063e-04  1.4504138e-03 -1.7172951e-03  1.9267428e-04\n",
            " -2.8005318e-04  6.7244287e-06]\n"
          ],
          "name": "stdout"
        }
      ]
    },
    {
      "cell_type": "code",
      "metadata": {
        "id": "CSVQ1efo3Zt-",
        "colab_type": "code",
        "outputId": "9c4cdd7c-bdbf-41b5-80f1-baa0b4fcbdfd",
        "colab": {
          "base_uri": "https://localhost:8080/",
          "height": 71
        }
      },
      "source": [
        "para = getMatchingPara(emb)\n",
        "print(para)"
      ],
      "execution_count": 0,
      "outputs": [
        {
          "output_type": "stream",
          "text": [
            "[0.3510968102007468, 0.43503507329196806, 0.26197185403590006, 0.5152197942059374, 0.01810624687591992, 0.5073791943771575]\n",
            "All radioactive decay is dangerous to living things, but alpha decay is the least dangerous.\n"
          ],
          "name": "stdout"
        }
      ]
    },
    {
      "cell_type": "code",
      "metadata": {
        "id": "pqIMRkB5DIxo",
        "colab_type": "code",
        "colab": {}
      },
      "source": [
        "saveFile(inpFile,outFile,para)"
      ],
      "execution_count": 0,
      "outputs": []
    }
  ]
}