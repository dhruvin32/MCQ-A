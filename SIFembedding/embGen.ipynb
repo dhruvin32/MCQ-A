{
  "nbformat": 4,
  "nbformat_minor": 0,
  "metadata": {
    "colab": {
      "name": "embGen.ipynb",
      "provenance": [],
      "collapsed_sections": [],
      "toc_visible": true
    },
    "kernelspec": {
      "name": "python3",
      "display_name": "Python 3"
    }
  },
  "cells": [
    {
      "cell_type": "code",
      "metadata": {
        "id": "-iZaQdEI3IXz",
        "colab_type": "code",
        "colab": {}
      },
      "source": [
        "# Input files: whole dataset, paragraphs file\n",
        "# ouput: word2vec model, paragraphs embeding"
      ],
      "execution_count": 0,
      "outputs": []
    },
    {
      "cell_type": "code",
      "metadata": {
        "id": "v7FUep0YH_v5",
        "colab_type": "code",
        "colab": {}
      },
      "source": [
        "import numpy as np\n",
        "from gensim.models import Word2Vec\n",
        "import re\n",
        "import json\n",
        "import glob\n",
        "import os"
      ],
      "execution_count": 0,
      "outputs": []
    },
    {
      "cell_type": "code",
      "metadata": {
        "id": "DlGa_6j_ttzH",
        "colab_type": "code",
        "colab": {}
      },
      "source": [
        "basePath = '/content/'\n",
        "\n",
        "'''data_dir = basePath+'tempdataset'\n",
        "drive_dir = basePath+'drive/My Drive/temp/tempDataset' '''\n",
        "\n",
        "data_dir = basePath+'dataset'\n",
        "drive_dir = basePath+'drive/My Drive/temp/DatasetN'\n",
        "\n",
        "paraFile = basePath + 'paragraph1.json'"
      ],
      "execution_count": 0,
      "outputs": []
    },
    {
      "cell_type": "code",
      "metadata": {
        "id": "Wq5uPJqcWW_J",
        "colab_type": "code",
        "outputId": "bd0571f3-2667-419c-9f8d-048edaa00641",
        "colab": {
          "base_uri": "https://localhost:8080/",
          "height": 54
        }
      },
      "source": [
        "'''import zipfile\n",
        "import os\n",
        "for file_name in os.listdir(drive_dir):\n",
        "  if file_name.endswith('.zip'):\n",
        "    with zipfile.ZipFile(drive_dir+'/'+file_name,'r') as zip_dir:\n",
        "      zip_dir.extractall(path='/content/')'''"
      ],
      "execution_count": 0,
      "outputs": [
        {
          "output_type": "execute_result",
          "data": {
            "text/plain": [
              "\"import zipfile\\nimport os\\nfor file_name in os.listdir(drive_dir):\\n  if file_name.endswith('.zip'):\\n    with zipfile.ZipFile(drive_dir+'/'+file_name,'r') as zip_dir:\\n      zip_dir.extractall(path='/content/')\""
            ]
          },
          "metadata": {
            "tags": []
          },
          "execution_count": 15
        }
      ]
    },
    {
      "cell_type": "code",
      "metadata": {
        "id": "lMhOVGdlu9NU",
        "colab_type": "code",
        "colab": {}
      },
      "source": [
        "def sifEmbeddings(sentences, model, alpha=1e-3):\n",
        "\n",
        "    vocab = model.wv.vocab\n",
        "    embs = model.wv       \n",
        "    size = model.vector_size  \n",
        "    \n",
        "    total = 0\n",
        "    for word in vocab:\n",
        "        total += vocab[word].count \n",
        "\n",
        "    output = []\n",
        "    \n",
        "    for sent in sentences:\n",
        "        count = 0\n",
        "        v = np.zeros(size, dtype=np.float32) \n",
        "        for word in sent:\n",
        "          if word in vocab:\n",
        "            #print(word)\n",
        "            weight = alpha / (alpha + (vocab[word].count/total))\n",
        "            v += weight * embs[word]\n",
        "            count += 1 \n",
        "                \n",
        "        if count > 0:\n",
        "            v *= 1/count\n",
        "\n",
        "        output.append(v)\n",
        "    return np.vstack(output)"
      ],
      "execution_count": 0,
      "outputs": []
    },
    {
      "cell_type": "code",
      "metadata": {
        "id": "kqNw3wZu96B8",
        "colab_type": "code",
        "colab": {}
      },
      "source": [
        "def splitSent(sent):\n",
        "    regX = '[\\s()\\.\\?]'\n",
        "    splitSent = re.split(regX,sent)\n",
        "    splitSent = list(filter(None,splitSent))\n",
        "    return splitSent"
      ],
      "execution_count": 0,
      "outputs": []
    },
    {
      "cell_type": "code",
      "metadata": {
        "id": "91kK8Dhn2C8a",
        "colab_type": "code",
        "colab": {}
      },
      "source": [
        "def getDatasetAsSents():\n",
        "    fileSents = []\n",
        "    dirs = os.listdir(data_dir)\n",
        "    print(dirs)\n",
        "    for d in dirs:\n",
        "      filenames = glob.glob(os.path.join(data_dir,d)+\"/*json\")\n",
        "      for file in filenames:\n",
        "          with open(file,'r') as f:\n",
        "              x = json.loads(f.read())\n",
        "              for option in x['options'][0]:\n",
        "                  fileSents.append(option)\n",
        "              fileSents.append(x['questions'][0])\n",
        "              fileSents.append(x['article'])\n",
        "    return fileSents"
      ],
      "execution_count": 0,
      "outputs": []
    },
    {
      "cell_type": "markdown",
      "metadata": {
        "id": "Vs_cMz7KrjiY",
        "colab_type": "text"
      },
      "source": [
        "# **Word2Vec**"
      ]
    },
    {
      "cell_type": "code",
      "metadata": {
        "id": "VWRSkE3yy3Z7",
        "colab_type": "code",
        "outputId": "a0d3ca25-cb1e-4b41-9cb5-bc327c49ad85",
        "colab": {
          "base_uri": "https://localhost:8080/",
          "height": 34
        }
      },
      "source": [
        "fileSents = getDatasetAsSents()\n",
        "sentences = [ splitSent(sent) for sent in fileSents]"
      ],
      "execution_count": 0,
      "outputs": [
        {
          "output_type": "stream",
          "text": [
            "['dev', 'test', 'train']\n"
          ],
          "name": "stdout"
        }
      ]
    },
    {
      "cell_type": "code",
      "metadata": {
        "id": "sPGxUICsICNe",
        "colab_type": "code",
        "colab": {}
      },
      "source": [
        "model = Word2Vec(sentences, min_count=1, size=10)"
      ],
      "execution_count": 0,
      "outputs": []
    },
    {
      "cell_type": "code",
      "metadata": {
        "id": "HjrXQJYx2mPo",
        "colab_type": "code",
        "outputId": "ab44ebee-d489-4101-ce14-495f862bdc76",
        "colab": {
          "base_uri": "https://localhost:8080/",
          "height": 71
        }
      },
      "source": [
        "model.save(basePath+\"word2vec.model\")\n",
        "#model.save(drive_dir+\"/word2vec.model\")"
      ],
      "execution_count": 0,
      "outputs": [
        {
          "output_type": "stream",
          "text": [
            "/usr/local/lib/python3.6/dist-packages/smart_open/smart_open_lib.py:253: UserWarning: This function is deprecated, use smart_open.open instead. See the migration notes for details: https://github.com/RaRe-Technologies/smart_open/blob/master/README.rst#migrating-to-the-new-open-function\n",
            "  'See the migration notes for details: %s' % _MIGRATION_NOTES_URL\n"
          ],
          "name": "stderr"
        }
      ]
    },
    {
      "cell_type": "markdown",
      "metadata": {
        "id": "UyHW8hpxrtjN",
        "colab_type": "text"
      },
      "source": [
        "# **Embedding Generation**"
      ]
    },
    {
      "cell_type": "code",
      "metadata": {
        "id": "qxD-fBE6vJeA",
        "colab_type": "code",
        "colab": {}
      },
      "source": [
        "f = open(paraFile,'r')\n",
        "x = json.loads(f.read())\n",
        "f.close()\n",
        "fileSents = [ x['para'+str(id)] for id in range(1,len(x)+1)]\n",
        "sentences = [ splitSent(sent) for sent in fileSents]"
      ],
      "execution_count": 0,
      "outputs": []
    },
    {
      "cell_type": "code",
      "metadata": {
        "id": "E4ixVNuW257r",
        "colab_type": "code",
        "outputId": "1703d09c-506a-440c-f5d5-b7c53a658181",
        "colab": {
          "base_uri": "https://localhost:8080/",
          "height": 88
        }
      },
      "source": [
        "model = Word2Vec.load(\"word2vec.model\")\n",
        "embs = sifEmbeddings(sentences, model, alpha=1e-3)\n",
        "print(embs.shape)\n",
        "np.savetxt(basePath+'paraEmbs.csv',embs, delimiter=',',fmt='%.15f')"
      ],
      "execution_count": 0,
      "outputs": [
        {
          "output_type": "stream",
          "text": [
            "/usr/local/lib/python3.6/dist-packages/smart_open/smart_open_lib.py:253: UserWarning: This function is deprecated, use smart_open.open instead. See the migration notes for details: https://github.com/RaRe-Technologies/smart_open/blob/master/README.rst#migrating-to-the-new-open-function\n",
            "  'See the migration notes for details: %s' % _MIGRATION_NOTES_URL\n"
          ],
          "name": "stderr"
        },
        {
          "output_type": "stream",
          "text": [
            "(10527, 10)\n"
          ],
          "name": "stdout"
        }
      ]
    }
  ]
}