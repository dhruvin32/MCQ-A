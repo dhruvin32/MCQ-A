{
  "nbformat": 4,
  "nbformat_minor": 0,
  "metadata": {
    "colab": {
      "name": "genTest.ipynb",
      "provenance": [],
      "collapsed_sections": [],
      "toc_visible": true
    },
    "kernelspec": {
      "name": "python3",
      "display_name": "Python 3"
    }
  },
  "cells": [
    {
      "cell_type": "code",
      "metadata": {
        "id": "echEDg9YGISz",
        "colab_type": "code",
        "colab": {}
      },
      "source": [
        "# input files: whole dataset, paragraphs file\n",
        "# ouput: Zip file containing testing dataset with selected paragraph"
      ],
      "execution_count": 0,
      "outputs": []
    },
    {
      "cell_type": "code",
      "metadata": {
        "id": "-Wxgmr3FHyFP",
        "colab_type": "code",
        "colab": {}
      },
      "source": [
        "import numpy as np\n",
        "from gensim.models import Word2Vec\n",
        "import re\n",
        "import json\n",
        "import glob\n",
        "import os\n",
        "from sklearn.metrics.pairwise import cosine_similarity\n",
        "import zipfile"
      ],
      "execution_count": 0,
      "outputs": []
    },
    {
      "cell_type": "code",
      "metadata": {
        "id": "iAPmcP_5IDjN",
        "colab_type": "code",
        "colab": {}
      },
      "source": [
        "basePath = '/content/'\n",
        "\n",
        "data_dir = basePath+'dataset'\n",
        "drive_dir = basePath+'drive/My Drive/temp/DatasetN'\n",
        "paraFile = basePath + 'paragraph2.json'\n",
        "\n",
        "'''data_dir = basePath+'tempdataset'\n",
        "drive_dir = basePath+'drive/My Drive/temp/tempDataset'\n",
        "paraFile = basePath + 'temp.json' '''\n",
        "\n",
        "outDir = basePath+'test'\n",
        "alpha = 0.001"
      ],
      "execution_count": 0,
      "outputs": []
    },
    {
      "cell_type": "code",
      "metadata": {
        "id": "rznOey_YIGTs",
        "colab_type": "code",
        "outputId": "09cc744f-9636-449d-d827-f48b7e6eed7c",
        "colab": {
          "base_uri": "https://localhost:8080/",
          "height": 54
        }
      },
      "source": [
        "'''for file_name in os.listdir(drive_dir):\n",
        "    if file_name.endswith('.zip'):\n",
        "        with zipfile.ZipFile(drive_dir+'/'+file_name,'r') as zip_dir:\n",
        "            zip_dir.extractall(path='/content/')'''"
      ],
      "execution_count": 0,
      "outputs": [
        {
          "output_type": "execute_result",
          "data": {
            "text/plain": [
              "\"for file_name in os.listdir(drive_dir):\\n    if file_name.endswith('.zip'):\\n        with zipfile.ZipFile(drive_dir+'/'+file_name,'r') as zip_dir:\\n            zip_dir.extractall(path='/content/')\""
            ]
          },
          "metadata": {
            "tags": []
          },
          "execution_count": 184
        }
      ]
    },
    {
      "cell_type": "code",
      "metadata": {
        "id": "Bx87MXrvIhiO",
        "colab_type": "code",
        "colab": {}
      },
      "source": [
        "def sifEmbeddings(sentences, model, alpha):\n",
        "\n",
        "    vocab = model.wv.vocab\n",
        "    embs = model.wv       \n",
        "    size = model.vector_size  \n",
        "    \n",
        "    total = 0\n",
        "    for word in vocab:\n",
        "        total += vocab[word].count \n",
        "\n",
        "    output = []\n",
        "    \n",
        "    for sent in sentences:\n",
        "        count = 0\n",
        "        v = np.zeros(size, dtype=np.float32) \n",
        "        for word in sent:\n",
        "          if word in vocab:\n",
        "            #print(word)\n",
        "            weight = alpha / (alpha + (vocab[word].count/total))\n",
        "            v += weight * embs[word]\n",
        "            count += 1 \n",
        "                \n",
        "        if count > 0:\n",
        "            v *= 1/count\n",
        "\n",
        "        output.append(v)\n",
        "    return np.vstack(output)"
      ],
      "execution_count": 0,
      "outputs": []
    },
    {
      "cell_type": "code",
      "metadata": {
        "id": "R9zQ_hBRIiYF",
        "colab_type": "code",
        "colab": {}
      },
      "source": [
        "def splitSent(sent):\n",
        "    regX = '[\\s()\\.\\?]'\n",
        "    splitSent = re.split(regX,sent)\n",
        "    splitSent = list(filter(None,splitSent))\n",
        "    return splitSent"
      ],
      "execution_count": 0,
      "outputs": []
    },
    {
      "cell_type": "code",
      "metadata": {
        "id": "wWvpJO3sKvdD",
        "colab_type": "code",
        "colab": {}
      },
      "source": [
        "def getFileSent(inpFile):\n",
        "    fileSent = ''\n",
        "    article = ''\n",
        "    with open(inpFile,'r') as f:\n",
        "        x = json.loads(f.read())\n",
        "        article = x['article']\n",
        "        for option in x['options'][0]:\n",
        "            fileSent += option\n",
        "            fileSent += ' '\n",
        "        fileSent += x['questions'][0]\n",
        "    return fileSent,article"
      ],
      "execution_count": 0,
      "outputs": []
    },
    {
      "cell_type": "code",
      "metadata": {
        "id": "LORqWKGuImj1",
        "colab_type": "code",
        "colab": {}
      },
      "source": [
        "def getDatasetAsSents():\n",
        "    fileSents = []\n",
        "    dirs = os.listdir(data_dir)\n",
        "    print(dirs)\n",
        "    for d in dirs:\n",
        "      filenames = glob.glob(os.path.join(data_dir,d)+\"/*json\")\n",
        "      for file in filenames:\n",
        "          with open(file,'r') as f:\n",
        "              x = json.loads(f.read())\n",
        "              for option in x['options'][0]:\n",
        "                  fileSents.append(option)\n",
        "              fileSents.append(x['questions'][0])\n",
        "              fileSents.append(x['article'])\n",
        "    return fileSents"
      ],
      "execution_count": 0,
      "outputs": []
    },
    {
      "cell_type": "code",
      "metadata": {
        "id": "ImaWzEEGJ312",
        "colab_type": "code",
        "colab": {}
      },
      "source": [
        "def getQuesEmb(model,inpFile):\n",
        "    fileSent,article = getFileSent(inpFile)\n",
        "    fileSent = fileSent + (' ' + fileSent)*5\n",
        "    sent = splitSent(fileSent)\n",
        "    emb = sifEmbeddings([sent], model, alpha=alpha)[0]\n",
        "    return emb,article"
      ],
      "execution_count": 0,
      "outputs": []
    },
    {
      "cell_type": "code",
      "metadata": {
        "id": "PVMUsM0CKibu",
        "colab_type": "code",
        "outputId": "337b742e-ba7a-42d1-b3f0-18e368d9f355",
        "colab": {
          "base_uri": "https://localhost:8080/",
          "height": 54
        }
      },
      "source": [
        "'''def getMatchingPara(quesEmb,paraEmbs):\n",
        "    #paraEmbs = np.loadtxt('paraEmbs.csv',delimiter=',')\n",
        "\n",
        "    scores = []\n",
        "    for paraEmb in paraEmbs:\n",
        "        score=float( cosine_similarity([paraEmb],[quesEmb]) )\n",
        "        scores.append(score)\n",
        "    #print(scores)\n",
        "    mxScoreInd = scores.index(max(scores))\n",
        "    mxScoreInd += 1\n",
        "\n",
        "    with open(paraFile,'r') as f:\n",
        "      x = json.loads(f.read())\n",
        "      return x['para'+str(mxScoreInd)]'''"
      ],
      "execution_count": 0,
      "outputs": [
        {
          "output_type": "execute_result",
          "data": {
            "text/plain": [
              "\"def getMatchingPara(quesEmb,paraEmbs):\\n    #paraEmbs = np.loadtxt('paraEmbs.csv',delimiter=',')\\n\\n    scores = []\\n    for paraEmb in paraEmbs:\\n        score=float( cosine_similarity([paraEmb],[quesEmb]) )\\n        scores.append(score)\\n    #print(scores)\\n    mxScoreInd = scores.index(max(scores))\\n    mxScoreInd += 1\\n\\n    with open(paraFile,'r') as f:\\n      x = json.loads(f.read())\\n      return x['para'+str(mxScoreInd)]\""
            ]
          },
          "metadata": {
            "tags": []
          },
          "execution_count": 190
        }
      ]
    },
    {
      "cell_type": "code",
      "metadata": {
        "id": "xst8H5QiRhqc",
        "colab_type": "code",
        "colab": {}
      },
      "source": [
        "def getMatchingPara(quesEmb,paraEmbs):\n",
        "    #paraEmbs = np.loadtxt('paraEmbs.csv',delimiter=',')\n",
        "\n",
        "    scores = []\n",
        "    for paraEmb in paraEmbs:\n",
        "        score=float( cosine_similarity([paraEmb],[quesEmb]) )\n",
        "        scores.append(score)\n",
        "    #print(scores)\n",
        "    #mxScoreInd = scores.index(max(scores))\n",
        "    #mxScoreInd += 1\n",
        "    topK = 3\n",
        "    #a = [2,6,5,9,7,2,3,6]\n",
        "    topIds = np.argsort(scores)[-topK:]\n",
        "    topIds += 1\n",
        "    #topVal = [scores[i] for i in topIds]\n",
        "\n",
        "    with open(paraFile,'r') as f:\n",
        "      x = json.loads(f.read())\n",
        "      for id in topIds:\n",
        "          print(x['para'+str(id)])\n",
        "      return x['para'+str(topIds[-1])]"
      ],
      "execution_count": 0,
      "outputs": []
    },
    {
      "cell_type": "code",
      "metadata": {
        "id": "ZjJHFu6xK-mL",
        "colab_type": "code",
        "colab": {}
      },
      "source": [
        "def saveFile(inpFile,outFile,para):\n",
        "    with open(inpFile,'r') as f:\n",
        "      x = json.loads(f.read())\n",
        "      x['article'] = para\n",
        "\n",
        "      with open(outFile, 'w') as jsonOut:\n",
        "          json.dump(x, jsonOut)"
      ],
      "execution_count": 0,
      "outputs": []
    },
    {
      "cell_type": "markdown",
      "metadata": {
        "id": "ygrHSz5AIuFE",
        "colab_type": "text"
      },
      "source": [
        "# **Word2Vec**"
      ]
    },
    {
      "cell_type": "code",
      "metadata": {
        "id": "dnmbqavSIxN0",
        "colab_type": "code",
        "outputId": "58a996f6-8532-494f-a12d-dc56a846f764",
        "colab": {
          "base_uri": "https://localhost:8080/",
          "height": 34
        }
      },
      "source": [
        "fileSents = getDatasetAsSents()\n",
        "sentences = [ splitSent(sent) for sent in fileSents]"
      ],
      "execution_count": 0,
      "outputs": [
        {
          "output_type": "stream",
          "text": [
            "['dev', 'test', 'train']\n"
          ],
          "name": "stdout"
        }
      ]
    },
    {
      "cell_type": "code",
      "metadata": {
        "id": "ABqmU7Z5I0Qc",
        "colab_type": "code",
        "colab": {}
      },
      "source": [
        "model = Word2Vec(sentences, min_count=1, size=200)\n",
        "#model.save(basePath+\"word2vec.model\")"
      ],
      "execution_count": 0,
      "outputs": []
    },
    {
      "cell_type": "markdown",
      "metadata": {
        "id": "8NHoGYHNJHhk",
        "colab_type": "text"
      },
      "source": [
        "# **Embedding Generation**"
      ]
    },
    {
      "cell_type": "code",
      "metadata": {
        "id": "sd3hWlWHJHJM",
        "colab_type": "code",
        "colab": {}
      },
      "source": [
        "f = open(paraFile,'r')\n",
        "x = json.loads(f.read())\n",
        "f.close()\n",
        "fileSents = [ x['para'+str(id)] for id in range(1,len(x)+1)]\n",
        "sentences = [ splitSent(sent) for sent in fileSents]"
      ],
      "execution_count": 0,
      "outputs": []
    },
    {
      "cell_type": "code",
      "metadata": {
        "id": "qd3S3hfLJam8",
        "colab_type": "code",
        "outputId": "cc815a0d-957d-418a-a3fa-25523bb16414",
        "colab": {
          "base_uri": "https://localhost:8080/",
          "height": 34
        }
      },
      "source": [
        "#model = Word2Vec.load(\"word2vec.model\")\n",
        "paraEembs = sifEmbeddings(sentences, model, alpha=alpha)\n",
        "print(paraEembs.shape)\n",
        "#np.savetxt(basePath+'paraEmbs.csv',paraEembs, delimiter=',',fmt='%.15f')"
      ],
      "execution_count": 0,
      "outputs": [
        {
          "output_type": "stream",
          "text": [
            "(12304, 200)\n"
          ],
          "name": "stdout"
        }
      ]
    },
    {
      "cell_type": "markdown",
      "metadata": {
        "id": "tLYEbbeHJn8c",
        "colab_type": "text"
      },
      "source": [
        "# **Generate Testing Dataset**"
      ]
    },
    {
      "cell_type": "code",
      "metadata": {
        "id": "7wKkcu-KJm7D",
        "colab_type": "code",
        "outputId": "f695d6bf-3525-448b-9d12-6de69f266ef5",
        "colab": {
          "base_uri": "https://localhost:8080/",
          "height": 921
        }
      },
      "source": [
        "filenames = glob.glob(os.path.join(data_dir,'test')+\"/*json\")\n",
        "if not os.path.exists(outDir):\n",
        "    os.mkdir(outDir)\n",
        "count = 0\n",
        "ind = 0\n",
        "for filename in filenames:\n",
        "    if ind == 10:\n",
        "      break\n",
        "    emb,article = getQuesEmb(model,filename)\n",
        "    print()\n",
        "    para = getMatchingPara(emb,paraEembs)\n",
        "    #print()\n",
        "    print(article)\n",
        "    #print(para)\n",
        "    if article == para:\n",
        "        count += 1\n",
        "    name = filename.split('/')[-1]\n",
        "    #print(name)\n",
        "    saveFile(filename,os.path.join(outDir,name),para)\n",
        "    ind += 1\n",
        "\n",
        "print()\n",
        "print('accuracy: ',(count/len(filenames))*100)"
      ],
      "execution_count": 0,
      "outputs": [
        {
          "output_type": "stream",
          "text": [
            "\n",
            "The first stage of cellular respiration is glycolysis . It takes place in the cytosol of the cytoplasm.\n",
            "The Calvin cycle is part of the light-independent reactions of photosynthesis. The Calvin cycle uses ATP and NADPH. The Krebs cycle is part of cellular respiration. This cycle makes ATP and NAPH.\n",
            "The Krebs cycle is the second stage of cellular respiration.\n",
            "The first stage of cellular respiration is glycolysis . It does not require oxygen, and it does not take place in the mitochondrion - it takes place in the cytosol of the cytoplasm.\n",
            "\n",
            "The axe head and the doorstop are both examples of a wedge, a type of simple machine.\n",
            "Base units have independent scales and cannot be described by a combination of any other base units. Examples of base units used in chemistry are length, mass, temperature, and time.\n",
            "Derived units can be expressed as some combination of base units. Examples of derived units are area, volume, and speed.\n",
            "Derived units can be expressed as some combination of base units. Examples of derived units are area, volume, and speed.\n",
            "\n",
            "CHAPTER SUMMARY 36.1 Sensory Processes A sensory activation occurs when a physical or chemical stimulus is processed into a neural signal (sensory transduction) by a sensory receptor. Perception is an individual interpretation of a sensation and is a brain function. Humans have special senses: olfaction, gustation, equilibrium, and hearing, plus the general senses of somatosensation. Sensory receptors are either specialized cells associated with sensory neurons or the specialized ends of sensory neurons that are a part of the peripheral nervous system, and they are used to receive information about the environment (internal or external). Each sensory receptor is modified for the type of stimulus it detects. For example, neither gustatory receptors nor auditory receptors are sensitive to light. Each sensory receptor is responsive to stimuli within a specific region in space, which is known as that receptor’s receptive field. The most fundamental function of a sensory system is the translation of a sensory signal to an electrical signal in the nervous system. All sensory signals, except those from the olfactory system, enter the central nervous system and are routed to the thalamus. When the sensory signal exits the thalamus, it is conducted to the specific area of the cortex dedicated to processing that particular sense.\n",
            "16.6 Nervous System The nervous system is made up of neurons and glia. Neurons are specialized cells that are capable of sending electrical as well as chemical signals. Most neurons contain dendrites, which receive these signals, and axons that send signals to other neurons or tissues. Glia are non-neuronal cells in the nervous system that support neuronal development and signaling. There are several types of glia that serve different functions. Neurons have a resting potential across their membranes and when they are stimulated by a strong enough signal from another neuron an action potential may carry an electrochemical signal along the neuron to a synapse with another neuron. Neurotransmitters carry signals across synapses to initiate a response in another neuron. The vertebrate central nervous system contains the brain and the spinal cord, which are covered and protected by three meninges. The brain contains structurally and functionally defined regions. In mammals, these include the cortex (which can be broken down into four primary functional lobes: frontal, temporal, occipital, and parietal), basal ganglia, thalamus, hypothalamus, limbic system, cerebellum, and brainstem—although structures in some of these designations overlap. While functions may be primarily localized to one structure in the brain, most complex functions, like language and sleep, involve neurons in multiple brain regions. The spinal cord is the information superhighway that connects the brain with the rest of the body through its connections with peripheral nerves. It transmits sensory and motor input and also controls motor reflexes. The peripheral nervous system contains both the autonomic and sensory-somatic nervous systems. The autonomic nervous system provides unconscious control over visceral functions and has two divisions: the sympathetic and parasympathetic nervous systems. The sympathetic nervous system is activated in stressful situations to prepare the animal for a “fight-orflight” response. The parasympathetic nervous system is active during restful periods. The sensory-somatic nervous system is made of cranial and spinal nerves that transmit sensory information from skin and muscle to the CNS and motor commands from the CNS to the muscles.\n",
            "All other nervous tissue in the body makes up the peripheral nervous system, which has two major divisions. The sensory division carries messages from sense organs and internal organs to the central nervous system. The motor division carries messages from the central nervous system to muscles, internal organs, and glands throughout the body. The motor division is further divided into parts that control involuntary or voluntary responses.\n",
            "Laura Guerin. The sensory division of the peripheral nervous system interprets signals, while the motor division sends signals . CC BY-NC 3.0.\n",
            "\n",
            "Reactant concentrations are highest at the beginning of a reaction. The plot of [C] versus tis a curve with a slope that becomes steadily less positive.\n",
            "If the experimental value is less than the accepted value, the error is negative. If the experimental value is larger than the accepted value, the error is positive. Often, error is reported as the absolute value of the difference in order to avoid the confusion of a negative error. The percent error is the absolute value of the error divided by the accepted value and multiplied by 100%.\n",
            "When additional water is added to an aqueous solution, the concentration of that solution decreases. This is because the number of moles of the solute does not change, while the volume of the solution increases. We can set up an equality between the moles of the solute before the dilution (1) and the moles of the solute after the dilution (2).\n",
            "The strength of bases is measured on the pH scale. A pH value greater than 7 indicates a base, and the higher the number is, the stronger the base.\n",
            "\n",
            "The function of the plasma membrane is to control what goes in and out of the cell. Some molecules can go through the cell membrane to enter and leave the cell, but some cannot. The cell is therefore not completely permeable. \"Permeable\" means that anything can cross a barrier. An open door is completely permeable to anything that wants to enter or exit through the door. The plasma membrane is semipermeable , meaning that some things can enter the cell, and some things cannot.\n",
            "An individual virus is called a virion. It is a tiny particle much smaller than a prokaryotic cell. Because viruses do not consist of cells, they also lack cell membranes, cytoplasm, ribosomes, and other cell organelles. Without these structures, they are unable to make proteins or even reproduce on their own. Instead, they must depend on a host cell to synthesize their proteins and to make copies of themselves. Viruses infect and live inside the cells of living organisms. When viruses infect the cells of their host, they may cause disease. For example, viruses cause AIDS, influenza (flu), chicken pox, and the common cold.\n",
            "Most plants continue to grow throughout their lives. Like other multicellular organisms, plants grow through a combination of cell growth and cell division. Cell growth increases cell size, while cell division (mitosis) increases the number of cells. As plant cells grow, they also become specialized into different cell types through cellular differentiation. Once cells differentiate, they can no longer divide. How do plants grow or replace damaged cells after that?.\n",
            "Some prokaryotes, however, cannot grow in a laboratory setting. In fact, over 99 percent of bacteria and archaea are unculturable. For the most part, this is due to a lack of knowledge as to what to feed these organisms and how to grow them; they have special requirements for growth that remain unknown to scientists, such as needing specific micronutrients, pH, temperature, pressure, co-factors, or co-metabolites. Some bacteria cannot be cultured because they are obligate intracellular parasites and cannot be grown outside a host cell. In other cases, culturable organisms become unculturable under stressful conditions, even though the same organism could be cultured previously. Those organisms that cannot be cultured but are not dead are in a viable-but-non-culturable (VBNC) state. The VBNC state occurs when prokaryotes respond to environmental stressors by entering a dormant state that allows their survival. The criteria for entering into the VBNC state are not completely understood. In a process called resuscitation, the prokaryote can go back to “normal” life when environmental conditions improve. Is the VBNC state an unusual way of living for prokaryotes? In fact, most of the prokaryotes living in the soil or in oceanic waters are non-culturable. It has been said that only a small fraction, perhaps one percent, of prokaryotes can be cultured under laboratory conditions. If these organisms are non-culturable, then how is it known whether they are present and alive? Microbiologists use molecular techniques, such as the polymerase chain reaction (PCR), to amplify selected portions of DNA of prokaryotes, demonstrating their existence. Recall that PCR can make billions of copies of a DNA segment in a process called amplification.\n",
            "\n",
            "In beta decay, an electron and a proton form from a neutron (another unusual particle, called an antineutrino, is also produced). Only the electron is emitted from the nucleus. How does this change the atomic number and atomic mass of the atom?.\n",
            "A: Along with another electron, it can combine with an alpha particle to form a helium atom. An alpha particle, which is emitted during alpha decay, consists of two protons and two neutrons.\n",
            "Transmutation also occurs when a nucleus undergoes decay. An example of beta decay is the emission of an electron by a carbon-14 nucleus.\n",
            "The example above illustrates the basic nuclear fission process. A neutron (generally produced by some controlled process, not usually a natural event) collides with an atom of U-235. Momentarily, a U-236 atom forms which then splits into two smaller atoms (Kr-93 and Ba-141) in the diagram. This process results in the release of three new neutrons, which can then initiate fission reactions with more atoms. We will see later how this propagation of neutrons can be employed in a reactor for the generation of electricity.\n",
            "\n",
            "Forms of Energy The forms of energy include thermal energy, radiant energy, electrical energy, nuclear energy, and chemical energy (Figure 5.1 \"Forms of Energy\"). Thermal energy results from atomic and molecular motion; the faster the motion, the greater the thermal energy. The temperature of an object is a measure of its thermal energy content. Radiant energy is the energy carried by light, microwaves, and radio waves. Objects left in bright sunshine or exposed to microwaves become warm because much of the radiant energy they absorb is converted to thermal energy. Electrical energy results from the flow of electrically charged particles. When the ground and a cloud develop a separation of charge, for example, the resulting flow of electrons from one to the other produces lightning, a natural form of electrical energy. Nuclear energy is stored in the nucleus of an atom, and chemical energy is stored within a chemical compound because of a particular arrangement of atoms. (a) Thermal energy results from atomic and molecular motion; molten steel at 2000°C has a very high thermal energy content. (b) Radiant energy (e. , from the sun) is the energy in light, microwaves, and radio waves. (c) Lightning is an example of electrical energy, which is due to the flow of electrically charged particles. (d)Nuclear.\n",
            "Nuclear energy is produced by splitting the nucleus of an atom. This releases a huge amount of energy.\n",
            "energy is released when particles in the nucleus of the atom are rearranged. (e) Chemical energy results from the particular arrangement of atoms in a chemical compound; the heat and light produced in this reaction are due to energy released during the breaking and reforming of chemical bonds. Electrical energy, nuclear energy, and chemical energy are different forms ofpotential energy (PE), which is energy stored in an object because of the relative positions or orientations of its components. A brick lying on the windowsill of a 10th-floor office has a great deal of potential energy, but until its position changes by falling, the energy is contained. In contrast, kinetic energy (KE) is energy due to the motionof an object. When the brick falls, its potential energy is transformed to kinetic energy, which is then transferred to the object on the ground that it strikes.\n",
            "Summary The tendency of an element to lose or gain electrons is one of the most important factors in determining the kind of compounds it forms. Periodic behavior is most evident for ionization energy (I), the energy required to remove an electron from a gaseous atom. The energy required to remove successive electrons from an atom increases steadily, with a substantial increase occurring with the removal of an electron from a filled inner shell. Consequently, only valence electrons can be removed in chemical reactions, leaving the filled inner shell intact. Ionization energies explain the common oxidation states observed for the elements. Ionization energies increase diagonally from the lower left of the periodic table to the upper right. Minor deviations from this trend can be explained in terms of particularly stable electronic configurations, called pseudo noble gas configurations, in either the parent atom or the resulting.\n",
            "\n",
            "Many genetic disorders are caused by mutations in one or a few genes. Other genetic disorders are caused by abnormal numbers of chromosomes.\n",
            "Many genetic disorders are caused by mutations in one or a few genes. Others are caused by chromosomal mutations. Some human genetic disorders are X-linked or Y-linked, which means the faulty gene is carried on these sex chromosomes. Other genetic disorders are carried on one of the other 22 pairs of chromosomes; these chromosomes are known as autosomes or autosomal (non-sex) chromosomes. Some genetic disorders are due to new mutations, others can be inherited from your parents.\n",
            "Sex chromosomes determine sex in animals and many plants. Other chromosomes are called autosomes. Sex-linked traits are controlled by genes on sex chromosomes. They may be inherited differently than autosomal traits.\n",
            "Traits controlled by genes on the sex chromosomes are called sex-linked traits . One gene on the Y chromosome determines male sex. There are very few other genes on the Y chromosome, which is the smallest human chromosome. There are hundreds of genes on the much larger X chromosome. None is related to sex. Traits controlled by genes on the X chromosome are called X-linked traits.\n",
            "\n",
            "Birds are four-limbed, endothermic vertebrates with wings and feathers. They produce amniotic eggs and are the most numerous class of vertebrates.\n",
            "Nonvascular plants were the first plants to evolve. Compared to other plants, their small size and lack of specialized structures, such as vascular tissue, stems, leaves, or flowers, explains why these plants evolved first. The first nonvascular plants to evolve were the liverworts. The hornworts evolved somewhat later, and mosses apparently evolved last. Of all the bryophytes, mosses are most similar to vascular plants. Presumably, they share the most recent common ancestor with vascular plants.\n",
            "Some mammals are omnivores. Omnivores are heterotrophs that eat a mix of plant and animal foods. Mammals that are omnivores include bears, foxes, rats, pigs, and human beings. The chimpanzees in Figure below are also omnivorous mammals. In the wild, they eat mainly plant foods, but they supplement plants with birds, bird eggs, insects, small monkeys, and other small mammals. Their favorite and most common food, however, is fruit. Animals that eat mainly fruit are called frugivores.\n",
            "Birds are endothermic tetrapod vertebrates. They are bipedal, which means they walk on two legs. Birds also lay amniotic eggs, and the eggs have hard, calcium carbonate shells. Although birds are the most recent class of vertebrates to evolve, they are now the most numerous vertebrates on Earth. Why have birds been so successful? What traits allowed them to increase and diversify so rapidly?.\n",
            "\n",
            "A solution is a mixture of two or more substances in which dissolved particles are distributed evenly throughout the solution. The substance that dissolves in a solution is called the solute, and the substance that does the dissolving is called the solvent. The concentration of a solution is the amount of solute in a given amount of solution. A solution with a lot of dissolved solute has a high concentration and is called a concentrated solution. A solution with little dissolved solute has a low concentration and is called a dilute solution.\n",
            "Water is one of the most common ingredients in solutions. A solution is a homogeneous mixture composed of two or more substances. In a solution, one substance is dissolved in another substance, forming a mixture that has the same proportion of substances throughout. The dissolved substance in a solution is called the solute . The substance in which it is dissolved is called the solvent . An example of a solution in which water is the solvent is salt water. In this solution, a solid—sodium chloride—is the solute. In addition to a solid dissolved in a liquid, solutions can also form with solutes and solvents in other states of matter. Examples are given in the Table below .\n",
            "All solutions have two parts: the solute and the solvent. The solute is the substance that dissolves, and the solvent is the substance that dissolves the solute. Particles of solvent pull apart particles of solute, and the solute particles spread throughout the solvent. Salt water, such as the ocean water in the Figure below , is an example of a solution. In a saltwater solution, salt is the solute and water is the solvent.\n",
            "A solution forms when one substance dissolves in another. The substance that dissolves is called the solute . The substance it dissolves in is called the solvent . For example, ocean water is a solution in which the solute is salt and the solvent is water. In this example, a solid (salt) is dissolved in a liquid (water). However, matter in any state can be the solute or solvent in a solution. Solutions may be gases, liquids, or solids. In Table below and the video at the URL below, you can learn about solutions involving other states of matter.\n",
            "\n",
            "accuracy:  0.11312217194570137\n"
          ],
          "name": "stdout"
        }
      ]
    },
    {
      "cell_type": "code",
      "metadata": {
        "id": "ElSeTc-WM9z1",
        "colab_type": "code",
        "colab": {}
      },
      "source": [
        "with zipfile.ZipFile(basePath+'testdata.zip','w') as zf:\n",
        "    for dirname, subdirs, files in os.walk(outDir):\n",
        "        for filename in files:\n",
        "            zf.write(os.path.join(dirname.split('/')[-1], filename))"
      ],
      "execution_count": 0,
      "outputs": []
    },
    {
      "cell_type": "code",
      "metadata": {
        "id": "-MWSsV4NOpFv",
        "colab_type": "code",
        "colab": {}
      },
      "source": [
        "#print('temp')"
      ],
      "execution_count": 0,
      "outputs": []
    },
    {
      "cell_type": "code",
      "metadata": {
        "id": "DmFT32Q7Q2p-",
        "colab_type": "code",
        "outputId": "fdf72551-2463-44b6-c251-508cbc999124",
        "colab": {
          "base_uri": "https://localhost:8080/",
          "height": 51
        }
      },
      "source": [
        "'''import numpy as np\n",
        "\n",
        "topK = 3\n",
        "a = [2,6,5,9,7,2,3,6]\n",
        "topIds = np.argsort(a)[-topK:]\n",
        "topVal = [a[i] for i in topIds]\n",
        "print(topIds)\n",
        "print(topVal)'''"
      ],
      "execution_count": 0,
      "outputs": [
        {
          "output_type": "stream",
          "text": [
            "[7 4 3]\n",
            "[6, 7, 9]\n"
          ],
          "name": "stdout"
        }
      ]
    }
  ]
}