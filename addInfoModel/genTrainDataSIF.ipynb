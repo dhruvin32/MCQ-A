{
 "cells": [
  {
   "cell_type": "code",
   "execution_count": 0,
   "metadata": {
    "colab": {},
    "colab_type": "code",
    "id": "zt8WZ5D3xwaL"
   },
   "outputs": [],
   "source": [
    "import numpy as np\n",
    "from gensim.models import Word2Vec\n",
    "import re\n",
    "import json\n",
    "import glob\n",
    "import os\n",
    "from sklearn.metrics.pairwise import cosine_similarity\n",
    "import zipfile"
   ]
  },
  {
   "cell_type": "code",
   "execution_count": 0,
   "metadata": {
    "colab": {},
    "colab_type": "code",
    "id": "TAz8f0Oyx_UK"
   },
   "outputs": [],
   "source": [
    "basePath = '/content/'\n",
    "\n",
    "data_dir = basePath+'dataset'\n",
    "drive_dir = basePath+'drive/My Drive/temp/DatasetN'\n",
    "paraFile = basePath + 'drive/My Drive/nlpproject/paragraph2.json'\n",
    "\"\"\"\n",
    "data_dir = basePath+'tempdataset'\n",
    "drive_dir = basePath+'drive/My Drive/temp/tempDataset'\n",
    "paraFile = basePath + 'drive/My Drive/temp.json'\n",
    "\"\"\"\n",
    "outDir = basePath+'test'\n",
    "\n",
    "max_seq_length = 512"
   ]
  },
  {
   "cell_type": "code",
   "execution_count": 35,
   "metadata": {
    "colab": {
     "base_uri": "https://localhost:8080/",
     "height": 54
    },
    "colab_type": "code",
    "executionInfo": {
     "elapsed": 1557,
     "status": "ok",
     "timestamp": 1589185958873,
     "user": {
      "displayName": "DHRUVIN RADADIYA",
      "photoUrl": "https://lh3.googleusercontent.com/a-/AOh14GgQSWFC3UoymvCdK7QNsItRhkBpGLrsLc1n65VeFA=s64",
      "userId": "09695096615051484553"
     },
     "user_tz": -330
    },
    "id": "bGVZZpqeyEMM",
    "outputId": "3faffb7e-83b4-4627-bb29-556ba612614e"
   },
   "outputs": [
    {
     "data": {
      "text/plain": [
       "\"for file_name in os.listdir('/content/drive/My Drive'):\\n    if file_name.endswith('.zip'):\\n        with zipfile.ZipFile('/content/drive/My Drive/'+file_name,'r') as zip_dir:\\n            zip_dir.extractall(path='/content/')\""
      ]
     },
     "execution_count": 35,
     "metadata": {
      "tags": []
     },
     "output_type": "execute_result"
    }
   ],
   "source": [
    "\"\"\"for file_name in os.listdir('/content/drive/My Drive'):\n",
    "    if file_name.endswith('.zip'):\n",
    "        with zipfile.ZipFile('/content/drive/My Drive/'+file_name,'r') as zip_dir:\n",
    "            zip_dir.extractall(path='/content/')\"\"\""
   ]
  },
  {
   "cell_type": "code",
   "execution_count": 0,
   "metadata": {
    "colab": {},
    "colab_type": "code",
    "id": "fzV87hpZyL5w"
   },
   "outputs": [],
   "source": [
    "def sifEmbeddings(sentences, model, alpha):\n",
    "\n",
    "    vocab = model.wv.vocab\n",
    "    embs = model.wv       \n",
    "    size = model.vector_size  \n",
    "    \n",
    "    total = 0\n",
    "    for word in vocab:\n",
    "        total += vocab[word].count \n",
    "\n",
    "    output = []\n",
    "    \n",
    "    for sent in sentences:\n",
    "        count = 0\n",
    "        v = np.zeros(size, dtype=np.float32) \n",
    "        for word in sent:\n",
    "          if word in vocab:\n",
    "            #print(word)\n",
    "            weight = alpha / (alpha + (vocab[word].count/total))\n",
    "            v += weight * embs[word]\n",
    "            count += 1 \n",
    "                \n",
    "        if count > 0:\n",
    "            v *= 1/count\n",
    "\n",
    "        output.append(v)\n",
    "    return np.vstack(output)"
   ]
  },
  {
   "cell_type": "code",
   "execution_count": 0,
   "metadata": {
    "colab": {},
    "colab_type": "code",
    "id": "TSemQo2PyZ9L"
   },
   "outputs": [],
   "source": [
    "def splitSent(sent):\n",
    "    regX = '[\\s()\\.\\?]'\n",
    "    splitSent = re.split(regX,sent)\n",
    "    splitSent = list(filter(None,splitSent))\n",
    "    return splitSent"
   ]
  },
  {
   "cell_type": "code",
   "execution_count": 0,
   "metadata": {
    "colab": {},
    "colab_type": "code",
    "id": "SjnVR-f3yaaH"
   },
   "outputs": [],
   "source": [
    "def getFileSent(inpFile):\n",
    "    fileSent = ''\n",
    "    article = ''\n",
    "    with open(inpFile,'r') as f:\n",
    "        x = json.loads(f.read())\n",
    "        article = x['article']\n",
    "        for option in x['options'][0]:\n",
    "            fileSent += option\n",
    "            fileSent += ' '\n",
    "        fileSent += x['questions'][0]\n",
    "    return fileSent,article"
   ]
  },
  {
   "cell_type": "code",
   "execution_count": 0,
   "metadata": {
    "colab": {},
    "colab_type": "code",
    "id": "su0DGIzuycFH"
   },
   "outputs": [],
   "source": [
    "def getDatasetAsSents():\n",
    "    fileSents = []\n",
    "    dirs = os.listdir(data_dir)\n",
    "    print(dirs)\n",
    "    for d in dirs:\n",
    "      filenames = glob.glob(os.path.join(data_dir,d)+\"/*json\")\n",
    "      for file in filenames:\n",
    "          with open(file,'r') as f:\n",
    "              x = json.loads(f.read())\n",
    "              for option in x['options'][0]:\n",
    "                  fileSents.append(option)\n",
    "              fileSents.append(x['questions'][0])\n",
    "              fileSents.append(x['article'])\n",
    "    return fileSents"
   ]
  },
  {
   "cell_type": "code",
   "execution_count": 0,
   "metadata": {
    "colab": {},
    "colab_type": "code",
    "id": "NfWSxrW2yd3H"
   },
   "outputs": [],
   "source": [
    "def getQuesEmb(model,inpFile):\n",
    "    fileSent,article = getFileSent(inpFile)\n",
    "    fileSent = fileSent + (' ' + fileSent)*5\n",
    "    sent = splitSent(fileSent)\n",
    "    emb = sifEmbeddings([sent], model, alpha=alpha)[0]\n",
    "    return emb,article"
   ]
  },
  {
   "cell_type": "code",
   "execution_count": 0,
   "metadata": {
    "colab": {},
    "colab_type": "code",
    "id": "HyDmgEfIygNX"
   },
   "outputs": [],
   "source": [
    "def saveFile(inpFile,outFile,para):\n",
    "    with open(inpFile,'r') as f:\n",
    "      x = json.loads(f.read())\n",
    "      x['article'] = para\n",
    "\n",
    "      with open(outFile, 'w') as jsonOut:\n",
    "          json.dump(x, jsonOut)"
   ]
  },
  {
   "cell_type": "code",
   "execution_count": 42,
   "metadata": {
    "colab": {
     "base_uri": "https://localhost:8080/",
     "height": 34
    },
    "colab_type": "code",
    "executionInfo": {
     "elapsed": 2153,
     "status": "ok",
     "timestamp": 1589185962368,
     "user": {
      "displayName": "DHRUVIN RADADIYA",
      "photoUrl": "https://lh3.googleusercontent.com/a-/AOh14GgQSWFC3UoymvCdK7QNsItRhkBpGLrsLc1n65VeFA=s64",
      "userId": "09695096615051484553"
     },
     "user_tz": -330
    },
    "id": "VidnPdxTyikk",
    "outputId": "4c589355-e727-4158-d5b0-123a1b2f1c00"
   },
   "outputs": [
    {
     "name": "stdout",
     "output_type": "stream",
     "text": [
      "['test', 'dev', 'train']\n"
     ]
    }
   ],
   "source": [
    "fileSents = getDatasetAsSents()\n",
    "sentences = [ splitSent(sent) for sent in fileSents]"
   ]
  },
  {
   "cell_type": "code",
   "execution_count": 43,
   "metadata": {
    "colab": {
     "base_uri": "https://localhost:8080/",
     "height": 71
    },
    "colab_type": "code",
    "executionInfo": {
     "elapsed": 20122,
     "status": "ok",
     "timestamp": 1589185981005,
     "user": {
      "displayName": "DHRUVIN RADADIYA",
      "photoUrl": "https://lh3.googleusercontent.com/a-/AOh14GgQSWFC3UoymvCdK7QNsItRhkBpGLrsLc1n65VeFA=s64",
      "userId": "09695096615051484553"
     },
     "user_tz": -330
    },
    "id": "EKhE5yjNymhR",
    "outputId": "40832413-0272-4e96-bf04-b9f9ebc82d78"
   },
   "outputs": [
    {
     "name": "stderr",
     "output_type": "stream",
     "text": [
      "/usr/local/lib/python3.6/dist-packages/smart_open/smart_open_lib.py:253: UserWarning: This function is deprecated, use smart_open.open instead. See the migration notes for details: https://github.com/RaRe-Technologies/smart_open/blob/master/README.rst#migrating-to-the-new-open-function\n",
      "  'See the migration notes for details: %s' % _MIGRATION_NOTES_URL\n"
     ]
    }
   ],
   "source": [
    "model = Word2Vec(sentences, min_count=1, size=200)\n",
    "model.save(basePath+\"word2vec.model\")"
   ]
  },
  {
   "cell_type": "code",
   "execution_count": 0,
   "metadata": {
    "colab": {},
    "colab_type": "code",
    "id": "5gfaluYzypP8"
   },
   "outputs": [],
   "source": [
    "f = open(paraFile,'r')\n",
    "x = json.loads(f.read())\n",
    "f.close()\n",
    "fileSents = [ x['para'+str(id)] for id in range(1,len(x)+1)]\n",
    "sentences = [ splitSent(sent) for sent in fileSents]"
   ]
  },
  {
   "cell_type": "code",
   "execution_count": 45,
   "metadata": {
    "colab": {
     "base_uri": "https://localhost:8080/",
     "height": 34
    },
    "colab_type": "code",
    "executionInfo": {
     "elapsed": 25531,
     "status": "ok",
     "timestamp": 1589185988076,
     "user": {
      "displayName": "DHRUVIN RADADIYA",
      "photoUrl": "https://lh3.googleusercontent.com/a-/AOh14GgQSWFC3UoymvCdK7QNsItRhkBpGLrsLc1n65VeFA=s64",
      "userId": "09695096615051484553"
     },
     "user_tz": -330
    },
    "id": "7YmJwXnlysC9",
    "outputId": "e4c9423d-a26b-42a4-eac4-c8ae2dd33f19"
   },
   "outputs": [
    {
     "name": "stdout",
     "output_type": "stream",
     "text": [
      "(12304, 200)\n"
     ]
    }
   ],
   "source": [
    "#model = Word2Vec.load(\"word2vec.model\")\n",
    "alpha=0.001\n",
    "paraEembs = sifEmbeddings(sentences, model, alpha=alpha)\n",
    "print(paraEembs.shape)\n",
    "np.savetxt(basePath+'paraEmbs.csv',paraEembs, delimiter=',',fmt='%.15f')"
   ]
  },
  {
   "cell_type": "code",
   "execution_count": 62,
   "metadata": {
    "colab": {
     "base_uri": "https://localhost:8080/",
     "height": 68
    },
    "colab_type": "code",
    "executionInfo": {
     "elapsed": 6309,
     "status": "ok",
     "timestamp": 1589187799505,
     "user": {
      "displayName": "DHRUVIN RADADIYA",
      "photoUrl": "https://lh3.googleusercontent.com/a-/AOh14GgQSWFC3UoymvCdK7QNsItRhkBpGLrsLc1n65VeFA=s64",
      "userId": "09695096615051484553"
     },
     "user_tz": -330
    },
    "id": "v6eEyHfgywbW",
    "outputId": "18acfd19-c3b8-49d4-c331-071d6ca6d309"
   },
   "outputs": [
    {
     "name": "stdout",
     "output_type": "stream",
     "text": [
      "884\n",
      "1768 200 0\n",
      "884 400\n"
     ]
    }
   ],
   "source": [
    "totalfile = sum([len(files) for r, d, files in os.walk(\"/content/dataset/test/\")])\n",
    "#totalfile = sum([len(files) for r, d, files in os.walk(\"/content/dataset/train/\")])\n",
    "#totalfile = sum([len(files) for r, d, files in os.walk(\"/content/dataset/dev/\")])\n",
    "\n",
    "\n",
    "print(totalfile)\n",
    "count = 0\n",
    "setData = []\n",
    "for i in range(1,totalfile+1):\n",
    "  path = \"/content/dataset/\" + \"test/\" + \"testdata\" +str(i)+\".json\"\n",
    "  #path = \"/content/dataset/\" + \"train/\" + \"traindata\" +str(i)+\".json\"\n",
    "  #path = \"/content/dataset/\" + \"dev/\" + \"validdata\" +str(i)+\".json\"\n",
    "  f = open(path,\"r\")\n",
    "  testdata = json.loads(f.read())\n",
    "  f.close()\n",
    "  \n",
    "  arti = splitSent(testdata['article'])\n",
    "  que = splitSent(testdata['questions'][0])\n",
    "  setData.append(arti)\n",
    "  setData.append(que)\n",
    "\n",
    "setDataEmb = sifEmbeddings(setData,model,alpha)\n",
    "setDataEmb = list(setDataEmb)\n",
    "print(len(setDataEmb),len(setDataEmb[0]),count)\n",
    "l_set = len(setDataEmb)\n",
    "newData = []\n",
    "for i in range(0,l_set,2):\n",
    "  newData.append(np.concatenate([setDataEmb[i],setDataEmb[i+1]]))\n",
    "\n",
    "print(len(newData),len(newData[0]))\n",
    "np.savetxt(basePath+'testDataEmbs.csv',newData, delimiter=',',fmt='%.15f')\n",
    "#np.savetxt(basePath+'trainDataEmbs.csv',newData, delimiter=',',fmt='%.15f')\n",
    "#np.savetxt(basePath+'validDataEmbs.csv',newData, delimiter=',',fmt='%.15f')"
   ]
  },
  {
   "cell_type": "code",
   "execution_count": 0,
   "metadata": {
    "colab": {},
    "colab_type": "code",
    "id": "ppDx2RHR0O1O"
   },
   "outputs": [],
   "source": []
  }
 ],
 "metadata": {
  "accelerator": "GPU",
  "colab": {
   "authorship_tag": "ABX9TyNqAO43lqlbRE/kMcM7n5Jk",
   "mount_file_id": "1dPfKFsZGPmSt_u2mHugEInLAmkwjYwX7",
   "name": "genDataSIF.ipynb",
   "provenance": []
  },
  "kernelspec": {
   "display_name": "Python 3",
   "language": "python",
   "name": "python3"
  },
  "language_info": {
   "codemirror_mode": {
    "name": "ipython",
    "version": 3
   },
   "file_extension": ".py",
   "mimetype": "text/x-python",
   "name": "python",
   "nbconvert_exporter": "python",
   "pygments_lexer": "ipython3",
   "version": "3.7.3"
  }
 },
 "nbformat": 4,
 "nbformat_minor": 1
}
