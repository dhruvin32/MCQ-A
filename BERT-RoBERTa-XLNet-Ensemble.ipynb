{
 "cells": [
  {
   "cell_type": "code",
   "execution_count": 1,
   "metadata": {
    "_cell_guid": "b1076dfc-b9ad-4769-8c92-a6c4dae69d19",
    "_uuid": "8f2839f25d086af736a60e9eeb907d3b93b6e0e5"
   },
   "outputs": [
    {
     "name": "stderr",
     "output_type": "stream",
     "text": [
      "Using TensorFlow backend.\n"
     ]
    }
   ],
   "source": [
    "from sklearn.metrics import accuracy_score\n",
    "from sklearn.linear_model import LogisticRegression\n",
    "from keras.models import load_model\n",
    "from keras.utils import to_categorical\n",
    "from numpy import dstack\n",
    "import pandas as pd\n",
    "import numpy as np\n",
    "import joblib"
   ]
  },
  {
   "cell_type": "code",
   "execution_count": 2,
   "metadata": {},
   "outputs": [],
   "source": [
    "base_dir = '/kaggle/input/predictions/'"
   ]
  },
  {
   "cell_type": "code",
   "execution_count": 3,
   "metadata": {},
   "outputs": [],
   "source": [
    "def get_stacked_dataset(filename_list):\n",
    "    stackX = None\n",
    "    for file in filename_list:\n",
    "        file_path = base_dir + file\n",
    "        df = pd.read_csv(file_path)\n",
    "        print(df.shape)\n",
    "        df = df.iloc[:, 1:5]\n",
    "        yhat = np.array(df)\n",
    "        print(df.shape, yhat.shape)\n",
    "        if(stackX is None):\n",
    "            stackX = yhat\n",
    "        else:\n",
    "            stackX = dstack((stackX, yhat))\n",
    "    print(stackX.shape)\n",
    "    stackX = stackX.reshape((stackX.shape[0], stackX.shape[1]*stackX.shape[2]))\n",
    "    return stackX"
   ]
  },
  {
   "cell_type": "code",
   "execution_count": 4,
   "metadata": {},
   "outputs": [],
   "source": [
    "def fit_stacked_model(trainX, trainy):\n",
    "    model = LogisticRegression()\n",
    "    model.fit(trainX, trainy)\n",
    "    return model"
   ]
  },
  {
   "cell_type": "code",
   "execution_count": 5,
   "metadata": {
    "_cell_guid": "79c7e3d0-c299-4dcb-8224-4455121ee9b0",
    "_uuid": "d629ff2d2480ee46fbb7e2d37f6b5fab8052498a"
   },
   "outputs": [],
   "source": [
    "def train():\n",
    "    trainX = get_stacked_dataset(['bert.csv', 'roberta.csv', 'xlnet.csv'])\n",
    "    df = pd.read_csv(base_dir + 'roberta.csv')\n",
    "    trainy = np.array(df['correct_answer'])    \n",
    "    model = fit_stacked_model(trainX, trainy)\n",
    "    print(model.score(trainX, trainy))\n",
    "    joblib.dump(model, '/kaggle/working/log_reg.joblib')"
   ]
  },
  {
   "cell_type": "code",
   "execution_count": 6,
   "metadata": {},
   "outputs": [
    {
     "name": "stdout",
     "output_type": "stream",
     "text": [
      "(11368, 6)\n",
      "(11368, 4) (11368, 4)\n",
      "(11368, 6)\n",
      "(11368, 4) (11368, 4)\n",
      "(11368, 6)\n",
      "(11368, 4) (11368, 4)\n",
      "(11368, 4, 3)\n",
      "0.9857494722026742\n"
     ]
    },
    {
     "name": "stderr",
     "output_type": "stream",
     "text": [
      "/opt/conda/lib/python3.7/site-packages/sklearn/linear_model/_logistic.py:940: ConvergenceWarning: lbfgs failed to converge (status=1):\n",
      "STOP: TOTAL NO. of ITERATIONS REACHED LIMIT.\n",
      "\n",
      "Increase the number of iterations (max_iter) or scale the data as shown in:\n",
      "    https://scikit-learn.org/stable/modules/preprocessing.html\n",
      "Please also refer to the documentation for alternative solver options:\n",
      "    https://scikit-learn.org/stable/modules/linear_model.html#logistic-regression\n",
      "  extra_warning_msg=_LOGISTIC_SOLVER_CONVERGENCE_MSG)\n"
     ]
    }
   ],
   "source": [
    "train()"
   ]
  },
  {
   "cell_type": "code",
   "execution_count": 7,
   "metadata": {},
   "outputs": [],
   "source": [
    "def test():\n",
    "    testX = get_stacked_dataset(['bert_test.csv', 'roberta_test.csv', 'xlnet_test.csv'])\n",
    "    df = pd.read_csv(base_dir + 'roberta_test.csv')\n",
    "    testy = np.array(df['correct_answer'])\n",
    "    model = joblib.load('/kaggle/working/log_reg.joblib')\n",
    "    print(model.score(testX, testy))"
   ]
  },
  {
   "cell_type": "code",
   "execution_count": 8,
   "metadata": {},
   "outputs": [
    {
     "name": "stdout",
     "output_type": "stream",
     "text": [
      "(884, 6)\n",
      "(884, 4) (884, 4)\n",
      "(884, 6)\n",
      "(884, 4) (884, 4)\n",
      "(884, 6)\n",
      "(884, 4) (884, 4)\n",
      "(884, 4, 3)\n",
      "0.9852941176470589\n"
     ]
    }
   ],
   "source": [
    "test()"
   ]
  }
 ],
 "metadata": {
  "kernelspec": {
   "display_name": "Python 3",
   "language": "python",
   "name": "python3"
  },
  "language_info": {
   "codemirror_mode": {
    "name": "ipython",
    "version": 3
   },
   "file_extension": ".py",
   "mimetype": "text/x-python",
   "name": "python",
   "nbconvert_exporter": "python",
   "pygments_lexer": "ipython3",
   "version": "3.7.3"
  }
 },
 "nbformat": 4,
 "nbformat_minor": 4
}
